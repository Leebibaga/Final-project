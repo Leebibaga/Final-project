{
 "cells": [
  {
   "cell_type": "code",
   "execution_count": 233,
   "metadata": {},
   "outputs": [],
   "source": [
    "import sweetviz as sv\n",
    "import pandas as pd\n",
    "import numpy as np\n",
    "import seaborn as sns\n",
    "import sklearn.metrics as metrics \n"
   ]
  },
  {
   "cell_type": "code",
   "execution_count": 234,
   "metadata": {},
   "outputs": [
    {
     "name": "stderr",
     "output_type": "stream",
     "text": [
      "/opt/anaconda3/lib/python3.8/site-packages/IPython/core/interactiveshell.py:3146: DtypeWarning: Columns (22) have mixed types.Specify dtype option on import or set low_memory=False.\n",
      "  has_raised = await self.run_ast_nodes(code_ast.body, cell_name,\n"
     ]
    }
   ],
   "source": [
    "data = pd.read_csv(\"fainel.csv\")"
   ]
  },
  {
   "cell_type": "code",
   "execution_count": 176,
   "metadata": {},
   "outputs": [],
   "source": [
    "data = data.drop(\"host_response_rate\", axis = 1)\n",
    "data = data.drop(\"latitude\", axis = 1)\n",
    "data = data.drop(\"longitude\", axis = 1)\n",
    "data = data.drop(\"square_feet\", axis = 1)\n",
    "data = data.drop(\"price\", axis = 1)\n",
    "data = data.drop(\"weekly_price\", axis = 1)\n",
    "data = data.drop(\"monthly_price\", axis = 1)\n",
    "data = data.drop(\"security_deposit\", axis = 1)\n",
    "data = data.drop(\"cleaning_fee\", axis = 1)\n",
    "data = data.drop(\"extra_people\", axis = 1)\n",
    "data = data.drop(\"column1\", axis = 1)\n",
    "data = data.drop(\"listings_sub_table_id\", axis = 1)\n",
    "data = data.drop(\"available_three_month_id\", axis = 1)\n",
    "data = data.drop(\"good_reviews_id\", axis = 1)"
   ]
  },
  {
   "cell_type": "code",
   "execution_count": 177,
   "metadata": {},
   "outputs": [
    {
     "data": {
      "text/plain": [
       "0    0.0\n",
       "1    0.0\n",
       "2    0.0\n",
       "3    0.0\n",
       "4    0.0\n",
       "Name: Count, dtype: float64"
      ]
     },
     "execution_count": 177,
     "metadata": {},
     "output_type": "execute_result"
    }
   ],
   "source": [
    "data[\"Count\"] = data[\"Count\"].fillna(0)\n",
    "data[\"Count\"].head()"
   ]
  },
  {
   "cell_type": "code",
   "execution_count": 178,
   "metadata": {},
   "outputs": [],
   "source": [
    "data = data.fillna(\"None\")"
   ]
  },
  {
   "cell_type": "code",
   "execution_count": 179,
   "metadata": {},
   "outputs": [],
   "source": [
    "data = data.rename(columns={'Count': 'number_of_days_rented'})"
   ]
  },
  {
   "cell_type": "code",
   "execution_count": 180,
   "metadata": {},
   "outputs": [],
   "source": [
    "corr_data = data.corr(method = \"spearman\")"
   ]
  },
  {
   "cell_type": "code",
   "execution_count": 181,
   "metadata": {},
   "outputs": [],
   "source": [
    " pd.set_option(\"display.max_columns\", None)"
   ]
  },
  {
   "cell_type": "code",
   "execution_count": 182,
   "metadata": {},
   "outputs": [],
   "source": [
    "pd.set_option(\"display.max_rows\", None)"
   ]
  },
  {
   "cell_type": "markdown",
   "metadata": {},
   "source": [
    "## Correlation between variables "
   ]
  },
  {
   "cell_type": "code",
   "execution_count": 185,
   "metadata": {},
   "outputs": [
    {
     "name": "stdout",
     "output_type": "stream",
     "text": [
      "id\n",
      "-------------------------\n",
      "id              1.0\n",
      "amenities_id    1.0\n",
      "Name: id, dtype: float64\n",
      "-------------------------\n",
      "host_id\n",
      "-------------------------\n",
      "host_id    1.0\n",
      "Name: host_id, dtype: float64\n",
      "-------------------------\n",
      "accommodates\n",
      "-------------------------\n",
      "accommodates    1.0\n",
      "Name: accommodates, dtype: float64\n",
      "-------------------------\n",
      "guests_included\n",
      "-------------------------\n",
      "guests_included    1.0\n",
      "Name: guests_included, dtype: float64\n",
      "-------------------------\n",
      "minimum_nights\n",
      "-------------------------\n",
      "minimum_nights    1.0\n",
      "Name: minimum_nights, dtype: float64\n",
      "-------------------------\n",
      "maximum_nights\n",
      "-------------------------\n",
      "maximum_nights    1.0\n",
      "Name: maximum_nights, dtype: float64\n",
      "-------------------------\n",
      "availability_30\n",
      "-------------------------\n",
      "availability_30    1.000000\n",
      "availability_60    0.911763\n",
      "availability_90    0.832950\n",
      "Name: availability_30, dtype: float64\n",
      "-------------------------\n",
      "availability_60\n",
      "-------------------------\n",
      "availability_30    0.911763\n",
      "availability_60    1.000000\n",
      "availability_90    0.942317\n",
      "Name: availability_60, dtype: float64\n",
      "-------------------------\n",
      "availability_90\n",
      "-------------------------\n",
      "availability_30    0.832950\n",
      "availability_60    0.942317\n",
      "availability_90    1.000000\n",
      "Name: availability_90, dtype: float64\n",
      "-------------------------\n",
      "availability_365\n",
      "-------------------------\n",
      "availability_365    1.0\n",
      "Name: availability_365, dtype: float64\n",
      "-------------------------\n",
      "number_of_reviews\n",
      "-------------------------\n",
      "number_of_reviews    1.000000\n",
      "sentiment            0.983525\n",
      "Name: number_of_reviews, dtype: float64\n",
      "-------------------------\n",
      "calculated_host_listings_count\n",
      "-------------------------\n",
      "calculated_host_listings_count    1.0\n",
      "Name: calculated_host_listings_count, dtype: float64\n",
      "-------------------------\n",
      "reviews_per_month\n",
      "-------------------------\n",
      "reviews_per_month    1.0\n",
      "Name: reviews_per_month, dtype: float64\n",
      "-------------------------\n",
      "is_host_picture_url\n",
      "-------------------------\n",
      "Series([], Name: is_host_picture_url, dtype: float64)\n",
      "-------------------------\n",
      "is_host_url\n",
      "-------------------------\n",
      "Series([], Name: is_host_url, dtype: float64)\n",
      "-------------------------\n",
      "is_host_thumbnail_url\n",
      "-------------------------\n",
      "Series([], Name: is_host_thumbnail_url, dtype: float64)\n",
      "-------------------------\n",
      "is_picture_url\n",
      "-------------------------\n",
      "Series([], Name: is_picture_url, dtype: float64)\n",
      "-------------------------\n",
      "tv\n",
      "-------------------------\n",
      "tv    1.0\n",
      "Name: tv, dtype: float64\n",
      "-------------------------\n",
      "cable\n",
      "-------------------------\n",
      "cable    1.0\n",
      "Name: cable, dtype: float64\n",
      "-------------------------\n",
      "wifi\n",
      "-------------------------\n",
      "wifi    1.0\n",
      "Name: wifi, dtype: float64\n",
      "-------------------------\n",
      "kitchen\n",
      "-------------------------\n",
      "kitchen    1.0\n",
      "Name: kitchen, dtype: float64\n",
      "-------------------------\n",
      "gym\n",
      "-------------------------\n",
      "gym    1.0\n",
      "Name: gym, dtype: float64\n",
      "-------------------------\n",
      "heating\n",
      "-------------------------\n",
      "heating    1.0\n",
      "Name: heating, dtype: float64\n",
      "-------------------------\n",
      "familykid\n",
      "-------------------------\n",
      "familykid    1.0\n",
      "Name: familykid, dtype: float64\n",
      "-------------------------\n",
      "friendly\n",
      "-------------------------\n",
      "friendly    1.0\n",
      "Name: friendly, dtype: float64\n",
      "-------------------------\n",
      "smoke\n",
      "-------------------------\n",
      "smoke       1.000000\n",
      "detector    0.969126\n",
      "Name: smoke, dtype: float64\n",
      "-------------------------\n",
      "detector\n",
      "-------------------------\n",
      "smoke       0.969126\n",
      "detector    1.000000\n",
      "Name: detector, dtype: float64\n",
      "-------------------------\n",
      "essentials\n",
      "-------------------------\n",
      "essentials    1.0\n",
      "Name: essentials, dtype: float64\n",
      "-------------------------\n",
      "shampoo\n",
      "-------------------------\n",
      "shampoo    1.0\n",
      "Name: shampoo, dtype: float64\n",
      "-------------------------\n",
      "lock\n",
      "-------------------------\n",
      "lock       1.000000\n",
      "bedroom    0.990261\n",
      "door       0.938322\n",
      "Name: lock, dtype: float64\n",
      "-------------------------\n",
      "bedroom\n",
      "-------------------------\n",
      "lock       0.990261\n",
      "bedroom    1.000000\n",
      "door       0.946163\n",
      "Name: bedroom, dtype: float64\n",
      "-------------------------\n",
      "door\n",
      "-------------------------\n",
      "lock       0.938322\n",
      "bedroom    0.946163\n",
      "door       1.000000\n",
      "Name: door, dtype: float64\n",
      "-------------------------\n",
      "hangers\n",
      "-------------------------\n",
      "hangers    1.0\n",
      "Name: hangers, dtype: float64\n",
      "-------------------------\n",
      "hair\n",
      "-------------------------\n",
      "hair    1.0\n",
      "Name: hair, dtype: float64\n",
      "-------------------------\n",
      "dryer\n",
      "-------------------------\n",
      "dryer    1.0\n",
      "Name: dryer, dtype: float64\n",
      "-------------------------\n",
      "iron\n",
      "-------------------------\n",
      "iron    1.0\n",
      "Name: iron, dtype: float64\n",
      "-------------------------\n",
      "laptop\n",
      "-------------------------\n",
      "laptop       1.0\n",
      "workspace    1.0\n",
      "Name: laptop, dtype: float64\n",
      "-------------------------\n",
      "workspace\n",
      "-------------------------\n",
      "laptop       1.0\n",
      "workspace    1.0\n",
      "Name: workspace, dtype: float64\n",
      "-------------------------\n",
      "living\n",
      "-------------------------\n",
      "living    1.0\n",
      "Name: living, dtype: float64\n",
      "-------------------------\n",
      "bathtub\n",
      "-------------------------\n",
      "bathtub    1.0\n",
      "Name: bathtub, dtype: float64\n",
      "-------------------------\n",
      "hot\n",
      "-------------------------\n",
      "hot      1.000000\n",
      "water    0.968975\n",
      "Name: hot, dtype: float64\n",
      "-------------------------\n",
      "water\n",
      "-------------------------\n",
      "hot      0.968975\n",
      "water    1.000000\n",
      "Name: water, dtype: float64\n",
      "-------------------------\n",
      "bed\n",
      "-------------------------\n",
      "bed       1.000000\n",
      "linens    0.956229\n",
      "Name: bed, dtype: float64\n",
      "-------------------------\n",
      "linens\n",
      "-------------------------\n",
      "bed       0.956229\n",
      "linens    1.000000\n",
      "Name: linens, dtype: float64\n",
      "-------------------------\n",
      "extra\n",
      "-------------------------\n",
      "extra       1.0\n",
      "pillows     1.0\n",
      "blankets    1.0\n",
      "Name: extra, dtype: float64\n",
      "-------------------------\n",
      "pillows\n",
      "-------------------------\n",
      "extra       1.0\n",
      "pillows     1.0\n",
      "blankets    1.0\n",
      "Name: pillows, dtype: float64\n",
      "-------------------------\n",
      "blankets\n",
      "-------------------------\n",
      "extra       1.0\n",
      "pillows     1.0\n",
      "blankets    1.0\n",
      "Name: blankets, dtype: float64\n",
      "-------------------------\n",
      "microwave\n",
      "-------------------------\n",
      "microwave    1.0\n",
      "Name: microwave, dtype: float64\n",
      "-------------------------\n",
      "coffee\n",
      "-------------------------\n",
      "coffee          1.000000\n",
      "maker           1.000000\n",
      "refrigerator    0.809512\n",
      "dishes          0.800259\n",
      "silverware      0.800259\n",
      "Name: coffee, dtype: float64\n",
      "-------------------------\n",
      "maker\n",
      "-------------------------\n",
      "coffee          1.000000\n",
      "maker           1.000000\n",
      "refrigerator    0.809512\n",
      "dishes          0.800259\n",
      "silverware      0.800259\n",
      "Name: maker, dtype: float64\n",
      "-------------------------\n",
      "refrigerator\n",
      "-------------------------\n",
      "coffee          0.809512\n",
      "maker           0.809512\n",
      "refrigerator    1.000000\n",
      "dishes          0.964854\n",
      "silverware      0.964854\n",
      "cooking         0.918712\n",
      "basics          0.918712\n",
      "stove           0.922017\n",
      "oven            0.811622\n",
      "Name: refrigerator, dtype: float64\n",
      "-------------------------\n",
      "dishwasher\n",
      "-------------------------\n",
      "dishwasher    1.0\n",
      "Name: dishwasher, dtype: float64\n",
      "-------------------------\n",
      "dishes\n",
      "-------------------------\n",
      "coffee          0.800259\n",
      "maker           0.800259\n",
      "refrigerator    0.964854\n",
      "dishes          1.000000\n",
      "silverware      1.000000\n",
      "cooking         0.918211\n",
      "basics          0.918211\n",
      "stove           0.924128\n",
      "oven            0.807687\n",
      "Name: dishes, dtype: float64\n",
      "-------------------------\n",
      "silverware\n",
      "-------------------------\n",
      "coffee          0.800259\n",
      "maker           0.800259\n",
      "refrigerator    0.964854\n",
      "dishes          1.000000\n",
      "silverware      1.000000\n",
      "cooking         0.918211\n",
      "basics          0.918211\n",
      "stove           0.924128\n",
      "oven            0.807687\n",
      "Name: silverware, dtype: float64\n",
      "-------------------------\n",
      "cooking\n",
      "-------------------------\n",
      "refrigerator    0.918712\n",
      "dishes          0.918211\n",
      "silverware      0.918211\n",
      "cooking         1.000000\n",
      "basics          1.000000\n",
      "stove           0.921975\n",
      "oven            0.819288\n",
      "Name: cooking, dtype: float64\n",
      "-------------------------\n",
      "basics\n",
      "-------------------------\n",
      "refrigerator    0.918712\n",
      "dishes          0.918211\n",
      "silverware      0.918211\n",
      "cooking         1.000000\n",
      "basics          1.000000\n",
      "stove           0.921975\n",
      "oven            0.819288\n",
      "Name: basics, dtype: float64\n",
      "-------------------------\n",
      "stove\n",
      "-------------------------\n",
      "refrigerator    0.922017\n",
      "dishes          0.924128\n",
      "silverware      0.924128\n",
      "cooking         0.921975\n",
      "basics          0.921975\n",
      "stove           1.000000\n",
      "oven            0.836633\n",
      "Name: stove, dtype: float64\n",
      "-------------------------\n",
      "luggage\n",
      "-------------------------\n",
      "luggage    1.0\n",
      "dropoff    1.0\n",
      "Name: luggage, dtype: float64\n",
      "-------------------------\n",
      "dropoff\n",
      "-------------------------\n",
      "luggage    1.0\n",
      "dropoff    1.0\n",
      "Name: dropoff, dtype: float64\n",
      "-------------------------\n",
      "allowed\n",
      "-------------------------\n",
      "allowed    1.0\n",
      "Name: allowed, dtype: float64\n",
      "-------------------------\n",
      "long\n",
      "-------------------------\n",
      "long     1.0\n",
      "term     1.0\n",
      "stays    1.0\n",
      "Name: long, dtype: float64\n",
      "-------------------------\n",
      "term\n",
      "-------------------------\n",
      "long     1.0\n",
      "term     1.0\n",
      "stays    1.0\n",
      "Name: term, dtype: float64\n",
      "-------------------------\n",
      "stays\n",
      "-------------------------\n",
      "long     1.0\n",
      "term     1.0\n",
      "stays    1.0\n",
      "Name: stays, dtype: float64\n",
      "-------------------------\n",
      "elevator\n",
      "-------------------------\n",
      "elevator    1.0\n",
      "Name: elevator, dtype: float64\n",
      "-------------------------\n",
      "washer\n",
      "-------------------------\n",
      "washer    1.0\n",
      "Name: washer, dtype: float64\n",
      "-------------------------\n",
      "internet\n",
      "-------------------------\n",
      "internet    1.0\n",
      "Name: internet, dtype: float64\n",
      "-------------------------\n",
      "buzzerwireless\n",
      "-------------------------\n",
      "buzzerwireless    1.0\n",
      "intercom          1.0\n",
      "Name: buzzerwireless, dtype: float64\n",
      "-------------------------\n",
      "intercom\n",
      "-------------------------\n",
      "buzzerwireless    1.0\n",
      "intercom          1.0\n",
      "Name: intercom, dtype: float64\n",
      "-------------------------\n",
      "carbon\n",
      "-------------------------\n",
      "carbon      1.0\n",
      "monoxide    1.0\n",
      "Name: carbon, dtype: float64\n",
      "-------------------------\n",
      "monoxide\n",
      "-------------------------\n",
      "carbon      1.0\n",
      "monoxide    1.0\n",
      "Name: monoxide, dtype: float64\n",
      "-------------------------\n",
      "first\n",
      "-------------------------\n",
      "first    1.0\n",
      "aid      1.0\n",
      "kit      1.0\n",
      "Name: first, dtype: float64\n",
      "-------------------------\n",
      "aid\n",
      "-------------------------\n",
      "first    1.0\n",
      "aid      1.0\n",
      "kit      1.0\n",
      "Name: aid, dtype: float64\n",
      "-------------------------\n",
      "kit\n",
      "-------------------------\n",
      "first    1.0\n",
      "aid      1.0\n",
      "kit      1.0\n",
      "Name: kit, dtype: float64\n",
      "-------------------------\n",
      "safety\n",
      "-------------------------\n",
      "safety    1.0\n",
      "card      1.0\n",
      "Name: safety, dtype: float64\n",
      "-------------------------\n",
      "card\n",
      "-------------------------\n",
      "safety    1.0\n",
      "card      1.0\n"
     ]
    },
    {
     "name": "stdout",
     "output_type": "stream",
     "text": [
      "Name: card, dtype: float64\n",
      "-------------------------\n",
      "fire\n",
      "-------------------------\n",
      "fire            1.0\n",
      "extinguisher    1.0\n",
      "Name: fire, dtype: float64\n",
      "-------------------------\n",
      "extinguisher\n",
      "-------------------------\n",
      "fire            1.0\n",
      "extinguisher    1.0\n",
      "Name: extinguisher, dtype: float64\n",
      "-------------------------\n",
      "_24hour\n",
      "-------------------------\n",
      "_24hour    1.0\n",
      "Name: _24hour, dtype: float64\n",
      "-------------------------\n",
      "checkin\n",
      "-------------------------\n",
      "checkin    1.0\n",
      "Name: checkin, dtype: float64\n",
      "-------------------------\n",
      "pets\n",
      "-------------------------\n",
      "pets    1.0\n",
      "Name: pets, dtype: float64\n",
      "-------------------------\n",
      "live\n",
      "-------------------------\n",
      "live        1.0\n",
      "property    1.0\n",
      "Name: live, dtype: float64\n",
      "-------------------------\n",
      "property\n",
      "-------------------------\n",
      "live        1.0\n",
      "property    1.0\n",
      "Name: property, dtype: float64\n",
      "-------------------------\n",
      "cat\n",
      "-------------------------\n",
      "cat    1.0\n",
      "Name: cat, dtype: float64\n",
      "-------------------------\n",
      "free\n",
      "-------------------------\n",
      "free    1.0\n",
      "Name: free, dtype: float64\n",
      "-------------------------\n",
      "parking\n",
      "-------------------------\n",
      "parking    1.0\n",
      "Name: parking, dtype: float64\n",
      "-------------------------\n",
      "translation\n",
      "-------------------------\n",
      "translation           1.000000\n",
      "missing               1.000000\n",
      "enhostingamenity49    0.843167\n",
      "enhostingamenity50    0.961888\n",
      "Name: translation, dtype: float64\n",
      "-------------------------\n",
      "missing\n",
      "-------------------------\n",
      "translation           1.000000\n",
      "missing               1.000000\n",
      "enhostingamenity49    0.843167\n",
      "enhostingamenity50    0.961888\n",
      "Name: missing, dtype: float64\n",
      "-------------------------\n",
      "enhostingamenity49\n",
      "-------------------------\n",
      "translation           0.843167\n",
      "missing               0.843167\n",
      "enhostingamenity49    1.000000\n",
      "Name: enhostingamenity49, dtype: float64\n",
      "-------------------------\n",
      "enhostingamenity50\n",
      "-------------------------\n",
      "translation           0.961888\n",
      "missing               0.961888\n",
      "enhostingamenity50    1.000000\n",
      "Name: enhostingamenity50, dtype: float64\n",
      "-------------------------\n",
      "host\n",
      "-------------------------\n",
      "host      1.0\n",
      "greets    1.0\n",
      "Name: host, dtype: float64\n",
      "-------------------------\n",
      "greets\n",
      "-------------------------\n",
      "host      1.0\n",
      "greets    1.0\n",
      "Name: greets, dtype: float64\n",
      "-------------------------\n",
      "single\n",
      "-------------------------\n",
      "single    1.0\n",
      "level     1.0\n",
      "home      1.0\n",
      "Name: single, dtype: float64\n",
      "-------------------------\n",
      "level\n",
      "-------------------------\n",
      "single    1.0\n",
      "level     1.0\n",
      "home      1.0\n",
      "Name: level, dtype: float64\n",
      "-------------------------\n",
      "home\n",
      "-------------------------\n",
      "single    1.0\n",
      "level     1.0\n",
      "home      1.0\n",
      "Name: home, dtype: float64\n",
      "-------------------------\n",
      "paid\n",
      "-------------------------\n",
      "paid    1.0\n",
      "Name: paid, dtype: float64\n",
      "-------------------------\n",
      "premises\n",
      "-------------------------\n",
      "premises    1.0\n",
      "Name: premises, dtype: float64\n",
      "-------------------------\n",
      "high\n",
      "-------------------------\n",
      "high     1.000000\n",
      "chair    0.977315\n",
      "Name: high, dtype: float64\n",
      "-------------------------\n",
      "chair\n",
      "-------------------------\n",
      "high     0.977315\n",
      "chair    1.000000\n",
      "Name: chair, dtype: float64\n",
      "-------------------------\n",
      "children\n",
      "-------------------------\n",
      "children     1.000000\n",
      "Column_87    0.804293\n",
      "books        0.951234\n",
      "toys         0.951234\n",
      "Name: children, dtype: float64\n",
      "-------------------------\n",
      "Column_87\n",
      "-------------------------\n",
      "children      0.804293\n",
      "Column_87     1.000000\n",
      "pack          0.813404\n",
      "n             0.813404\n",
      "playtravel    0.813404\n",
      "Name: Column_87, dtype: float64\n",
      "-------------------------\n",
      "books\n",
      "-------------------------\n",
      "children    0.951234\n",
      "books       1.000000\n",
      "toys        1.000000\n",
      "Name: books, dtype: float64\n",
      "-------------------------\n",
      "toys\n",
      "-------------------------\n",
      "children    0.951234\n",
      "books       1.000000\n",
      "toys        1.000000\n",
      "Name: toys, dtype: float64\n",
      "-------------------------\n",
      "babysitter\n",
      "-------------------------\n",
      "babysitter         1.0\n",
      "recommendations    1.0\n",
      "Name: babysitter, dtype: float64\n",
      "-------------------------\n",
      "recommendations\n",
      "-------------------------\n",
      "babysitter         1.0\n",
      "recommendations    1.0\n",
      "Name: recommendations, dtype: float64\n",
      "-------------------------\n",
      "crib\n",
      "-------------------------\n",
      "crib          1.000000\n",
      "pack          0.867085\n",
      "n             0.867085\n",
      "playtravel    0.867085\n",
      "Name: crib, dtype: float64\n",
      "-------------------------\n",
      "pack\n",
      "-------------------------\n",
      "Column_87     0.813404\n",
      "crib          0.867085\n",
      "pack          1.000000\n",
      "n             1.000000\n",
      "playtravel    1.000000\n",
      "Name: pack, dtype: float64\n",
      "-------------------------\n",
      "n\n",
      "-------------------------\n",
      "Column_87     0.813404\n",
      "crib          0.867085\n",
      "pack          1.000000\n",
      "n             1.000000\n",
      "playtravel    1.000000\n",
      "Name: n, dtype: float64\n",
      "-------------------------\n",
      "playtravel\n",
      "-------------------------\n",
      "Column_87     0.813404\n",
      "crib          0.867085\n",
      "pack          1.000000\n",
      "n             1.000000\n",
      "playtravel    1.000000\n",
      "Name: playtravel, dtype: float64\n",
      "-------------------------\n",
      "roomdarkening\n",
      "-------------------------\n",
      "roomdarkening    1.0\n",
      "shades           1.0\n",
      "Name: roomdarkening, dtype: float64\n",
      "-------------------------\n",
      "shades\n",
      "-------------------------\n",
      "roomdarkening    1.0\n",
      "shades           1.0\n",
      "Name: shades, dtype: float64\n",
      "-------------------------\n",
      "dinnerware\n",
      "-------------------------\n",
      "dinnerware    1.0\n",
      "Name: dinnerware, dtype: float64\n",
      "-------------------------\n",
      "oven\n",
      "-------------------------\n",
      "refrigerator    0.811622\n",
      "dishes          0.807687\n",
      "silverware      0.807687\n",
      "cooking         0.819288\n",
      "basics          0.819288\n",
      "stove           0.836633\n",
      "oven            1.000000\n",
      "Name: oven, dtype: float64\n",
      "-------------------------\n",
      "entrance\n",
      "-------------------------\n",
      "entrance    1.0\n",
      "Name: entrance, dtype: float64\n",
      "-------------------------\n",
      "ethernet\n",
      "-------------------------\n",
      "ethernet      1.0\n",
      "connection    1.0\n",
      "Name: ethernet, dtype: float64\n",
      "-------------------------\n",
      "connection\n",
      "-------------------------\n",
      "ethernet      1.0\n",
      "connection    1.0\n",
      "Name: connection, dtype: float64\n",
      "-------------------------\n",
      "smoking\n",
      "-------------------------\n",
      "smoking    1.0\n",
      "Name: smoking, dtype: float64\n",
      "-------------------------\n",
      "patio\n",
      "-------------------------\n",
      "patio      1.0\n",
      "balcony    1.0\n",
      "Name: patio, dtype: float64\n",
      "-------------------------\n",
      "balcony\n",
      "-------------------------\n",
      "patio      1.0\n",
      "balcony    1.0\n",
      "Name: balcony, dtype: float64\n",
      "-------------------------\n",
      "indoor\n",
      "-------------------------\n",
      "indoor       1.000000\n",
      "fireplace    0.993716\n",
      "Name: indoor, dtype: float64\n",
      "-------------------------\n",
      "fireplace\n",
      "-------------------------\n",
      "indoor       0.993716\n",
      "fireplace    1.000000\n",
      "Name: fireplace, dtype: float64\n",
      "-------------------------\n",
      "wheelchair\n",
      "-------------------------\n",
      "wheelchair    1.0\n",
      "accessible    1.0\n",
      "Name: wheelchair, dtype: float64\n",
      "-------------------------\n",
      "accessible\n",
      "-------------------------\n",
      "wheelchair    1.0\n",
      "accessible    1.0\n",
      "Name: accessible, dtype: float64\n",
      "-------------------------\n",
      "baby\n",
      "-------------------------\n",
      "baby    1.000000\n",
      "bath    0.862667\n",
      "Name: baby, dtype: float64\n",
      "-------------------------\n",
      "bath\n",
      "-------------------------\n",
      "baby    0.862667\n",
      "bath    1.000000\n",
      "Name: bath, dtype: float64\n",
      "-------------------------\n",
      "wide\n",
      "-------------------------\n",
      "wide         1.000000\n",
      "clearance    0.922730\n",
      "doorway      0.868976\n",
      "Name: wide, dtype: float64\n",
      "-------------------------\n",
      "hallway\n",
      "-------------------------\n",
      "hallway      1.000000\n",
      "clearance    0.842145\n",
      "Name: hallway, dtype: float64\n",
      "-------------------------\n",
      "clearance\n",
      "-------------------------\n",
      "wide         0.922730\n",
      "hallway      0.842145\n",
      "clearance    1.000000\n",
      "Name: clearance, dtype: float64\n",
      "-------------------------\n",
      "doorway\n",
      "-------------------------\n",
      "wide       0.868976\n",
      "doorway    1.000000\n",
      "Name: doorway, dtype: float64\n",
      "-------------------------\n",
      "welllit\n",
      "-------------------------\n",
      "welllit    1.000000\n",
      "path       0.965764\n",
      "Name: welllit, dtype: float64\n",
      "-------------------------\n",
      "path\n",
      "-------------------------\n",
      "welllit    0.965764\n",
      "path       1.000000\n",
      "Name: path, dtype: float64\n",
      "-------------------------\n",
      "stepfree\n",
      "-------------------------\n",
      "stepfree    1.000000\n",
      "access      0.963012\n",
      "Name: stepfree, dtype: float64\n",
      "-------------------------\n",
      "access\n",
      "-------------------------\n",
      "stepfree    0.963012\n",
      "access      1.000000\n",
      "Name: access, dtype: float64\n",
      "-------------------------\n",
      "accessibleheight\n",
      "-------------------------\n",
      "accessibleheight    1.0\n",
      "Name: accessibleheight, dtype: float64\n",
      "-------------------------\n",
      "handheld\n",
      "-------------------------\n",
      "handheld    1.000000\n",
      "shower      0.939881\n",
      "head        1.000000\n",
      "Name: handheld, dtype: float64\n",
      "-------------------------\n",
      "shower\n",
      "-------------------------\n",
      "handheld    0.939881\n",
      "shower      1.000000\n",
      "head        0.939881\n",
      "Name: shower, dtype: float64\n",
      "-------------------------\n",
      "head\n",
      "-------------------------\n",
      "handheld    1.000000\n",
      "shower      0.939881\n",
      "head        1.000000\n",
      "Name: head, dtype: float64\n",
      "-------------------------\n",
      "tub\n",
      "-------------------------\n",
      "tub    1.0\n",
      "Name: tub, dtype: float64\n",
      "-------------------------\n",
      "toilet\n",
      "-------------------------\n",
      "toilet    1.0\n",
      "Name: toilet, dtype: float64\n",
      "-------------------------\n",
      "entryway\n",
      "-------------------------\n",
      "entryway    1.0\n",
      "Name: entryway, dtype: float64\n",
      "-------------------------\n",
      "self\n",
      "-------------------------\n",
      "self    1.0\n",
      "Name: self, dtype: float64\n",
      "-------------------------\n",
      "building\n",
      "-------------------------\n",
      "building    1.0\n",
      "staff       1.0\n",
      "Name: building, dtype: float64\n",
      "-------------------------\n",
      "staff\n",
      "-------------------------\n",
      "building    1.0\n",
      "staff       1.0\n",
      "Name: staff, dtype: float64\n",
      "-------------------------\n",
      "pet\n",
      "-------------------------\n",
      "pet    1.0\n",
      "Name: pet, dtype: float64\n",
      "-------------------------\n",
      "suitable\n",
      "-------------------------\n",
      "suitable    1.0\n",
      "events      1.0\n",
      "Name: suitable, dtype: float64\n",
      "-------------------------\n",
      "events\n",
      "-------------------------\n",
      "suitable    1.0\n",
      "events      1.0\n",
      "Name: events, dtype: float64\n",
      "-------------------------\n",
      "cleaning\n",
      "-------------------------\n",
      "cleaning    1.0\n",
      "checkout    1.0\n",
      "Name: cleaning, dtype: float64\n",
      "-------------------------\n",
      "checkout\n",
      "-------------------------\n",
      "cleaning    1.0\n",
      "checkout    1.0\n",
      "Name: checkout, dtype: float64\n",
      "-------------------------\n",
      "lockbox\n",
      "-------------------------\n",
      "lockbox    1.0\n",
      "Name: lockbox, dtype: float64\n",
      "-------------------------\n",
      "outlet\n",
      "-------------------------\n",
      "outlet    1.0\n",
      "covers    1.0\n",
      "Name: outlet, dtype: float64\n",
      "-------------------------\n",
      "covers\n",
      "-------------------------\n",
      "outlet    1.0\n",
      "covers    1.0\n",
      "Name: covers, dtype: float64\n",
      "-------------------------\n",
      "changing\n",
      "-------------------------\n",
      "changing    1.000000\n",
      "table       0.882337\n",
      "Name: changing, dtype: float64\n",
      "-------------------------\n",
      "table\n",
      "-------------------------\n",
      "changing    0.882337\n",
      "table       1.000000\n",
      "Name: table, dtype: float64\n",
      "-------------------------\n",
      "dog\n",
      "-------------------------\n",
      "dog    1.0\n",
      "Name: dog, dtype: float64\n",
      "-------------------------\n",
      "keypad\n",
      "-------------------------\n",
      "keypad    1.0\n",
      "Name: keypad, dtype: float64\n",
      "-------------------------\n",
      "doorman\n",
      "-------------------------\n",
      "doorman    1.0\n",
      "Name: doorman, dtype: float64\n",
      "-------------------------\n",
      "breakfast\n",
      "-------------------------\n",
      "breakfast    1.0\n",
      "Name: breakfast, dtype: float64\n",
      "-------------------------\n",
      "smart\n",
      "-------------------------\n",
      "smart    1.0\n",
      "Name: smart, dtype: float64\n",
      "-------------------------\n",
      "game\n",
      "-------------------------\n",
      "game       1.0\n",
      "console    1.0\n",
      "Name: game, dtype: float64\n",
      "-------------------------\n",
      "console\n",
      "-------------------------\n",
      "game       1.0\n",
      "console    1.0\n",
      "Name: console, dtype: float64\n",
      "-------------------------\n",
      "bbq\n",
      "-------------------------\n",
      "bbq      1.0\n",
      "grill    1.0\n",
      "Name: bbq, dtype: float64\n",
      "-------------------------\n",
      "grill\n",
      "-------------------------\n",
      "bbq      1.0\n",
      "grill    1.0\n",
      "Name: grill, dtype: float64\n",
      "-------------------------\n",
      "garden\n",
      "-------------------------\n",
      "garden      1.0\n",
      "backyard    1.0\n",
      "Name: garden, dtype: float64\n",
      "-------------------------\n",
      "backyard\n",
      "-------------------------\n",
      "garden      1.0\n",
      "backyard    1.0\n",
      "Name: backyard, dtype: float64\n",
      "-------------------------\n",
      "monitor\n",
      "-------------------------\n",
      "monitor    1.0\n",
      "Name: monitor, dtype: float64\n",
      "-------------------------\n",
      "stair\n",
      "-------------------------\n",
      "stair    1.0\n",
      "gates    1.0\n",
      "Name: stair, dtype: float64\n",
      "-------------------------\n",
      "gates\n",
      "-------------------------\n",
      "stair    1.0\n",
      "gates    1.0\n",
      "Name: gates, dtype: float64\n",
      "-------------------------\n",
      "window\n",
      "-------------------------\n",
      "window    1.000000\n",
      "guards    0.963077\n",
      "Name: window, dtype: float64\n",
      "-------------------------\n",
      "guards\n",
      "-------------------------\n",
      "window    0.963077\n",
      "guards    1.000000\n",
      "Name: guards, dtype: float64\n",
      "-------------------------\n",
      "pocket\n",
      "-------------------------\n",
      "pocket    1.0\n",
      "Name: pocket, dtype: float64\n",
      "-------------------------\n",
      "waterfront\n",
      "-------------------------\n",
      "waterfront    1.0\n",
      "Name: waterfront, dtype: float64\n",
      "-------------------------\n",
      "flat\n",
      "-------------------------\n",
      "flat     1.0\n",
      "front    1.0\n",
      "Name: flat, dtype: float64\n",
      "-------------------------\n",
      "front\n",
      "-------------------------\n",
      "flat     1.0\n",
      "front    1.0\n",
      "Name: front, dtype: float64\n",
      "-------------------------\n",
      "lake\n",
      "-------------------------\n",
      "lake    1.0\n",
      "Name: lake, dtype: float64\n",
      "-------------------------\n",
      "rollin\n",
      "-------------------------\n",
      "rollin    1.0\n",
      "Name: rollin, dtype: float64\n",
      "-------------------------\n",
      "air\n",
      "-------------------------\n",
      "air             1.000000\n",
      "conditioning    0.994132\n",
      "Name: air, dtype: float64\n",
      "-------------------------\n",
      "conditioning\n",
      "-------------------------\n",
      "air             0.994132\n",
      "conditioning    1.000000\n",
      "Name: conditioning, dtype: float64\n",
      "-------------------------\n",
      "pool\n",
      "-------------------------\n",
      "pool    1.0\n",
      "Name: pool, dtype: float64\n",
      "-------------------------\n",
      "bathroom\n",
      "-------------------------\n",
      "bathroom    1.0\n",
      "Name: bathroom, dtype: float64\n",
      "-------------------------\n",
      "fixed\n",
      "-------------------------\n",
      "fixed    1.0\n",
      "grab     1.0\n",
      "bars     1.0\n",
      "Name: fixed, dtype: float64\n",
      "-------------------------\n",
      "grab\n",
      "-------------------------\n",
      "fixed    1.0\n",
      "grab     1.0\n",
      "bars     1.0\n",
      "Name: grab, dtype: float64\n",
      "-------------------------\n",
      "bars\n",
      "-------------------------\n",
      "fixed    1.0\n",
      "grab     1.0\n",
      "bars     1.0\n",
      "Name: bars, dtype: float64\n",
      "-------------------------\n",
      "ev\n",
      "-------------------------\n",
      "ev         1.0\n",
      "charger    1.0\n",
      "Name: ev, dtype: float64\n",
      "-------------------------\n",
      "charger\n",
      "-------------------------\n",
      "ev         1.0\n",
      "charger    1.0\n",
      "Name: charger, dtype: float64\n",
      "-------------------------\n",
      "disabled\n",
      "-------------------------\n",
      "disabled    1.0\n",
      "spot        1.0\n"
     ]
    },
    {
     "name": "stdout",
     "output_type": "stream",
     "text": [
      "Name: disabled, dtype: float64\n",
      "-------------------------\n",
      "spot\n",
      "-------------------------\n",
      "disabled    1.0\n",
      "spot        1.0\n",
      "Name: spot, dtype: float64\n",
      "-------------------------\n",
      "kettle\n",
      "-------------------------\n",
      "kettle    1.0\n",
      "Name: kettle, dtype: float64\n",
      "-------------------------\n",
      "ground\n",
      "-------------------------\n",
      "ground    1.0\n",
      "floor     1.0\n",
      "Name: ground, dtype: float64\n",
      "-------------------------\n",
      "floor\n",
      "-------------------------\n",
      "ground    1.0\n",
      "floor     1.0\n",
      "Name: floor, dtype: float64\n",
      "-------------------------\n",
      "skiinskiout\n",
      "-------------------------\n",
      "skiinskiout    1.0\n",
      "Name: skiinskiout, dtype: float64\n",
      "-------------------------\n",
      "firm\n",
      "-------------------------\n",
      "firm        1.0\n",
      "mattress    1.0\n",
      "Name: firm, dtype: float64\n",
      "-------------------------\n",
      "mattress\n",
      "-------------------------\n",
      "firm        1.0\n",
      "mattress    1.0\n",
      "Name: mattress, dtype: float64\n",
      "-------------------------\n",
      "beach\n",
      "-------------------------\n",
      "beach    1.0\n",
      "Name: beach, dtype: float64\n",
      "-------------------------\n",
      "purifier\n",
      "-------------------------\n",
      "purifier    1.0\n",
      "Name: purifier, dtype: float64\n",
      "-------------------------\n",
      "full\n",
      "-------------------------\n",
      "full    1.0\n",
      "Name: full, dtype: float64\n",
      "-------------------------\n",
      "corner\n",
      "-------------------------\n",
      "corner    1.0\n",
      "Name: corner, dtype: float64\n",
      "-------------------------\n",
      "beachfront\n",
      "-------------------------\n",
      "beachfront    1.0\n",
      "Name: beachfront, dtype: float64\n",
      "-------------------------\n",
      "electric\n",
      "-------------------------\n",
      "electric     1.0\n",
      "profiling    1.0\n",
      "Name: electric, dtype: float64\n",
      "-------------------------\n",
      "profiling\n",
      "-------------------------\n",
      "electric     1.0\n",
      "profiling    1.0\n",
      "Name: profiling, dtype: float64\n",
      "-------------------------\n",
      "body\n",
      "-------------------------\n",
      "body        1.0\n",
      "soap        1.0\n",
      "towel       1.0\n",
      "paper       1.0\n",
      "comforts    1.0\n",
      "Name: body, dtype: float64\n",
      "-------------------------\n",
      "soap\n",
      "-------------------------\n",
      "body        1.0\n",
      "soap        1.0\n",
      "towel       1.0\n",
      "paper       1.0\n",
      "comforts    1.0\n",
      "Name: soap, dtype: float64\n",
      "-------------------------\n",
      "towel\n",
      "-------------------------\n",
      "body        1.0\n",
      "soap        1.0\n",
      "towel       1.0\n",
      "paper       1.0\n",
      "comforts    1.0\n",
      "Name: towel, dtype: float64\n",
      "-------------------------\n",
      "paper\n",
      "-------------------------\n",
      "body        1.0\n",
      "soap        1.0\n",
      "towel       1.0\n",
      "paper       1.0\n",
      "comforts    1.0\n",
      "Name: paper, dtype: float64\n",
      "-------------------------\n",
      "sound\n",
      "-------------------------\n",
      "sound         1.0\n",
      "system        1.0\n",
      "convection    1.0\n",
      "netflix       1.0\n",
      "Name: sound, dtype: float64\n",
      "-------------------------\n",
      "system\n",
      "-------------------------\n",
      "sound         1.0\n",
      "system        1.0\n",
      "convection    1.0\n",
      "netflix       1.0\n",
      "Name: system, dtype: float64\n",
      "-------------------------\n",
      "convection\n",
      "-------------------------\n",
      "sound         1.0\n",
      "system        1.0\n",
      "convection    1.0\n",
      "netflix       1.0\n",
      "Name: convection, dtype: float64\n",
      "-------------------------\n",
      "netflix\n",
      "-------------------------\n",
      "sound         1.0\n",
      "system        1.0\n",
      "convection    1.0\n",
      "netflix       1.0\n",
      "Name: netflix, dtype: float64\n",
      "-------------------------\n",
      "comforts\n",
      "-------------------------\n",
      "body        1.0\n",
      "soap        1.0\n",
      "towel       1.0\n",
      "paper       1.0\n",
      "comforts    1.0\n",
      "Name: comforts, dtype: float64\n",
      "-------------------------\n",
      "ceiling\n",
      "-------------------------\n",
      "ceiling    1.0\n",
      "hoist      1.0\n",
      "Name: ceiling, dtype: float64\n",
      "-------------------------\n",
      "hoist\n",
      "-------------------------\n",
      "ceiling    1.0\n",
      "hoist      1.0\n",
      "Name: hoist, dtype: float64\n",
      "-------------------------\n",
      "kitchenette\n",
      "-------------------------\n",
      "kitchenette    1.0\n",
      "Name: kitchenette, dtype: float64\n",
      "-------------------------\n",
      "amenities_id\n",
      "-------------------------\n",
      "id              1.0\n",
      "amenities_id    1.0\n",
      "Name: amenities_id, dtype: float64\n",
      "-------------------------\n",
      "email\n",
      "-------------------------\n",
      "email    1.0\n",
      "Name: email, dtype: float64\n",
      "-------------------------\n",
      "phone\n",
      "-------------------------\n",
      "phone    1.0\n",
      "Name: phone, dtype: float64\n",
      "-------------------------\n",
      "reviews\n",
      "-------------------------\n",
      "reviews    1.0\n",
      "Name: reviews, dtype: float64\n",
      "-------------------------\n",
      "jumio\n",
      "-------------------------\n",
      "jumio           1.000000\n",
      "governmentid    0.964212\n",
      "Name: jumio, dtype: float64\n",
      "-------------------------\n",
      "offlinegovernmentid\n",
      "-------------------------\n",
      "offlinegovernmentid    1.0\n",
      "Name: offlinegovernmentid, dtype: float64\n",
      "-------------------------\n",
      "governmentid\n",
      "-------------------------\n",
      "jumio           0.964212\n",
      "governmentid    1.000000\n",
      "Name: governmentid, dtype: float64\n",
      "-------------------------\n",
      "facebook\n",
      "-------------------------\n",
      "facebook    1.0\n",
      "Name: facebook, dtype: float64\n",
      "-------------------------\n",
      "manualoffline\n",
      "-------------------------\n",
      "manualoffline    1.0\n",
      "Name: manualoffline, dtype: float64\n",
      "-------------------------\n",
      "workemail\n",
      "-------------------------\n",
      "workemail    1.0\n",
      "Name: workemail, dtype: float64\n",
      "-------------------------\n",
      "selfie\n",
      "-------------------------\n",
      "selfie            1.000000\n",
      "identitymanual    0.975631\n",
      "Name: selfie, dtype: float64\n",
      "-------------------------\n",
      "identitymanual\n",
      "-------------------------\n",
      "selfie            0.975631\n",
      "identitymanual    1.000000\n",
      "Name: identitymanual, dtype: float64\n",
      "-------------------------\n",
      "kba\n",
      "-------------------------\n",
      "kba    1.0\n",
      "Name: kba, dtype: float64\n",
      "-------------------------\n",
      "sentid\n",
      "-------------------------\n",
      "sentid    1.0\n",
      "Name: sentid, dtype: float64\n",
      "-------------------------\n",
      "google\n",
      "-------------------------\n",
      "google    1.0\n",
      "Name: google, dtype: float64\n",
      "-------------------------\n",
      "manualonline\n",
      "-------------------------\n",
      "manualonline    1.0\n",
      "Name: manualonline, dtype: float64\n",
      "-------------------------\n",
      "none\n",
      "-------------------------\n",
      "none    1.0\n",
      "Name: none, dtype: float64\n",
      "-------------------------\n",
      "zhimaselfie\n",
      "-------------------------\n",
      "zhimaselfie    1.0\n",
      "Name: zhimaselfie, dtype: float64\n",
      "-------------------------\n",
      "weibo\n",
      "-------------------------\n",
      "weibo    1.0\n",
      "Name: weibo, dtype: float64\n",
      "-------------------------\n",
      "sesame\n",
      "-------------------------\n",
      "sesame           1.0\n",
      "sesameoffline    1.0\n",
      "Name: sesame, dtype: float64\n",
      "-------------------------\n",
      "sesameoffline\n",
      "-------------------------\n",
      "sesame           1.0\n",
      "sesameoffline    1.0\n",
      "Name: sesameoffline, dtype: float64\n",
      "-------------------------\n",
      "photographer\n",
      "-------------------------\n",
      "photographer    1.0\n",
      "Name: photographer, dtype: float64\n",
      "-------------------------\n",
      "entire\n",
      "-------------------------\n",
      "entire     1.000000\n",
      "homeapt    1.000000\n",
      "private    0.966897\n",
      "room       1.000000\n",
      "Name: entire, dtype: float64\n",
      "-------------------------\n",
      "homeapt\n",
      "-------------------------\n",
      "entire     1.000000\n",
      "homeapt    1.000000\n",
      "private    0.966897\n",
      "room       1.000000\n",
      "Name: homeapt, dtype: float64\n",
      "-------------------------\n",
      "private\n",
      "-------------------------\n",
      "entire     0.966897\n",
      "homeapt    0.966897\n",
      "private    1.000000\n",
      "room       0.966897\n",
      "Name: private, dtype: float64\n",
      "-------------------------\n",
      "room\n",
      "-------------------------\n",
      "entire     1.000000\n",
      "homeapt    1.000000\n",
      "private    0.966897\n",
      "room       1.000000\n",
      "Name: room, dtype: float64\n",
      "-------------------------\n",
      "shared\n",
      "-------------------------\n",
      "shared    1.0\n",
      "Name: shared, dtype: float64\n",
      "-------------------------\n",
      "harvesine_distance\n",
      "-------------------------\n",
      "harvesine_distance    1.0\n",
      "Name: harvesine_distance, dtype: float64\n",
      "-------------------------\n",
      "price_2\n",
      "-------------------------\n",
      "price_2    1.0\n",
      "Name: price_2, dtype: float64\n",
      "-------------------------\n",
      "extra_people_2\n",
      "-------------------------\n",
      "extra_people_2    1.0\n",
      "Name: extra_people_2, dtype: float64\n",
      "-------------------------\n",
      "sentiment\n",
      "-------------------------\n",
      "number_of_reviews    0.983525\n",
      "sentiment            1.000000\n",
      "Name: sentiment, dtype: float64\n",
      "-------------------------\n",
      "number_of_days_rented\n",
      "-------------------------\n",
      "number_of_days_rented    1.0\n",
      "Name: number_of_days_rented, dtype: float64\n",
      "-------------------------\n"
     ]
    }
   ],
   "source": [
    "correlation = pd.DataFrame()\n",
    "for name in corr_data.columns:\n",
    "    print(name)\n",
    "    print(\"-------------------------\")\n",
    "    cor_target = abs(corr_data[name])\n",
    "    relevant_features = cor_target[cor_target > 0.8]\n",
    "    print(relevant_features)\n",
    "    print(\"-------------------------\")"
   ]
  },
  {
   "cell_type": "code",
   "execution_count": 186,
   "metadata": {},
   "outputs": [],
   "source": [
    "data = data.drop(\"ceiling\", axis = 1)\n",
    "data = data.rename(columns={'hoist': 'ceiling hoist'})\n",
    "data = data.drop(\"sound\", axis = 1)\n",
    "data = data.rename(columns={'system': 'sound system'})\n",
    "data = data.drop(\"body\", axis = 1)\n",
    "data = data.rename(columns={'soap': 'body soap'})\n",
    "data = data.drop(\"electric\", axis = 1)\n",
    "data = data.rename(columns={'profiling': 'electric profiling'})\n",
    "data = data.drop(\"firm\", axis = 1)\n",
    "data = data.rename(columns={'mattress': 'firm mattress'})\n",
    "data = data.drop(\"ground\", axis = 1)\n",
    "data = data.rename(columns={'floor': 'ground floor'})\n",
    "data = data.drop(\"disabled\", axis = 1)\n",
    "data = data.rename(columns={'spot': 'disabled spot'})\n",
    "data = data.drop(\"ev\", axis = 1)\n",
    "data = data.rename(columns={'charger': 'ev charger'})\n",
    "data = data.drop(\"fixed\", axis = 1)\n",
    "data = data.drop(\"grab\", axis = 1)\n",
    "data = data.drop(\"air\", axis = 1)\n",
    "data = data.rename(columns={'conditioning': 'air conditioning'})\n",
    "data = data.drop(\"flat\", axis = 1)\n",
    "data = data.rename(columns={'front': 'flat front'})\n",
    "data = data.drop(\"window\", axis = 1)\n",
    "data = data.rename(columns={'guards': 'window guards'})\n",
    "data = data.drop(\"stair\", axis = 1)\n",
    "data = data.rename(columns={'gates': 'stair gates'})\n",
    "data = data.drop(\"garden\", axis = 1)\n",
    "data = data.rename(columns={'backyard': 'garden backyard'})\n",
    "data = data.drop(\"bbq\", axis = 1)\n",
    "data = data.rename(columns={'grill': 'bbq grill'})\n",
    "data = data.drop(\"game\", axis = 1)\n",
    "data = data.rename(columns={'console': 'game console'})\n",
    "data = data.drop(\"changing\", axis = 1)\n",
    "data = data.rename(columns={'table': 'changing table'})\n",
    "data = data.drop(\"outlet\", axis = 1)\n",
    "data = data.rename(columns={'covers': 'outlet covers'})\n",
    "data = data.drop(\"cleaning\", axis = 1)\n",
    "data = data.rename(columns={'checkout': 'cleaning checkout'})\n",
    "data = data.drop(\"suitable\", axis = 1)\n",
    "data = data.rename(columns={'events': 'suitable events'})\n",
    "data = data.drop(\"building\", axis = 1)\n",
    "data = data.rename(columns={'staff': 'building staff'})\n",
    "data = data.drop(\"handheld\", axis = 1)\n",
    "data = data.drop(\"shower\", axis = 1)\n",
    "data = data.rename(columns={'head': 'handheld shower head'})\n",
    "data = data.drop(\"stepfree\", axis = 1)\n",
    "data = data.rename(columns={'access': 'stepfree access'})\n",
    "data = data.drop(\"welllit\", axis = 1)\n",
    "data = data.rename(columns={'path': 'welllit path'})\n",
    "data = data.drop(\"wide\", axis = 1)\n",
    "data = data.drop(\"hallway\", axis = 1)\n",
    "data = data.rename(columns={'clearance': 'wide hallway clearance'})\n",
    "data = data.drop(\"baby\", axis = 1)\n",
    "data = data.rename(columns={'bath': 'baby bath'})\n",
    "data = data.drop(\"wheelchair\", axis = 1)\n",
    "data = data.rename(columns={'accessible': 'wheelchair accessible'})\n",
    "data = data.drop(\"indoor\", axis = 1)\n",
    "data = data.rename(columns={'fireplace': 'indoor fireplace'})\n",
    "data = data.drop(\"ethernet\", axis = 1)\n",
    "data = data.rename(columns={'connection': 'ethernet connection'})\n",
    "data = data.drop(\"roomdarkening\", axis = 1)\n",
    "data = data.rename(columns={'shades': 'roomdarkening shades'})\n",
    "data = data.drop(\"crib\", axis = 1)\n",
    "data = data.drop(\"n\", axis = 1)\n",
    "data = data.drop(\"pack\", axis = 1)\n",
    "data = data.rename(columns={'playtravel': 'crib pack n playtravel'})\n",
    "data = data.drop(\"babysitter\", axis = 1)\n",
    "data = data.rename(columns={'recommendations': 'babysitter recommendations'})\n",
    "data = data.drop(\"amenities_id\", axis = 1)\n",
    "data = data.drop(\"detector\", axis = 1)\n",
    "data = data.rename(columns={'smoke': 'smoke detector'})\n",
    "data = data.drop(\"lock\", axis = 1)\n",
    "data = data.drop(\"bedroom\", axis = 1)\n",
    "data = data.rename(columns={'door': 'lock bedroom door'})\n",
    "data = data.drop(\"hair\", axis = 1)\n",
    "data = data.rename(columns={'dryer': 'hair dryer'})\n",
    "data = data.drop(\"laptop\", axis = 1)\n",
    "data = data.rename(columns={'workspace': 'laptop workspace'})\n",
    "data = data.drop(\"hot\", axis = 1)\n",
    "data = data.rename(columns={'water': 'hot water'})\n",
    "data = data.drop(\"bed\", axis = 1)\n",
    "data = data.rename(columns={'linens': 'bed linens'})\n",
    "data = data.drop(\"extra\", axis = 1)\n",
    "data = data.drop(\"pillows\", axis = 1)\n",
    "data = data.rename(columns={'blankets': 'extra pillos and blankets'})\n",
    "data = data.drop(\"coffee\", axis = 1)\n",
    "data = data.rename(columns={'maker': 'coffe maker'})\n",
    "data = data.drop(\"silverware\", axis = 1)\n",
    "data = data.drop(\"luggage\", axis = 1)\n",
    "data = data.rename(columns={'dropoff': 'luggage dropoff'})\n",
    "data = data.drop(\"long\", axis = 1)\n",
    "data = data.drop(\"term\", axis = 1)\n",
    "data = data.rename(columns={'stays': 'long trem stays'})\n",
    "data = data.drop(\"buzzerwireless\", axis = 1)\n",
    "data = data.rename(columns={'intercom': 'buzzerwireless intercom'})\n",
    "data = data.drop(\"carbon\", axis = 1)\n",
    "data = data.rename(columns={'monoxide': 'carbon monoxide'})\n",
    "data = data.drop(\"first\", axis = 1)\n",
    "data = data.drop(\"aid\", axis = 1)\n",
    "data = data.rename(columns={'kit': 'first aid kit'})\n",
    "data = data.drop(\"safety\", axis = 1)\n",
    "data = data.rename(columns={'card': 'safty card'})\n",
    "data = data.drop(\"fire\", axis = 1)\n",
    "data = data.rename(columns={'extinguisher': 'fire extinguisher'})\n",
    "data = data.drop(\"live\", axis = 1)\n",
    "data = data.drop(\"translation\", axis = 1)\n",
    "data = data.drop(\"enhostingamenity49\", axis = 1)\n",
    "data = data.drop(\"enhostingamenity50\", axis = 1)\n",
    "data = data.rename(columns={'missing': 'translation missing'})\n",
    "data = data.drop(\"host\", axis = 1)\n",
    "data = data.rename(columns={'greets': 'host greets'})\n",
    "data = data.drop(\"single\", axis = 1)\n",
    "data = data.drop(\"level\", axis = 1)\n",
    "data = data.rename(columns={'home': 'single level home'})\n",
    "data = data.drop(\"high\", axis = 1)\n",
    "data = data.rename(columns={'chair': 'high chair'})\n",
    "data = data.drop(\"children\", axis = 1)\n",
    "data = data.drop(\"books\", axis = 1)\n",
    "data = data.rename(columns={'toys': 'children books and toys'})"
   ]
  },
  {
   "cell_type": "code",
   "execution_count": 187,
   "metadata": {},
   "outputs": [
    {
     "data": {
      "text/plain": [
       "(671380, 225)"
      ]
     },
     "execution_count": 187,
     "metadata": {},
     "output_type": "execute_result"
    }
   ],
   "source": [
    "data.shape"
   ]
  },
  {
   "cell_type": "code",
   "execution_count": 188,
   "metadata": {},
   "outputs": [
    {
     "name": "stdout",
     "output_type": "stream",
     "text": [
      "ShapiroResult(statistic=0.869652509689331, pvalue=0.0)\n",
      "ShapiroResult(statistic=0.9217015504837036, pvalue=0.0)\n",
      "ShapiroResult(statistic=0.9504427313804626, pvalue=0.0)\n"
     ]
    },
    {
     "name": "stderr",
     "output_type": "stream",
     "text": [
      "/opt/anaconda3/lib/python3.8/site-packages/scipy/stats/morestats.py:1681: UserWarning: p-value may not be accurate for N > 5000.\n",
      "  warnings.warn(\"p-value may not be accurate for N > 5000.\")\n"
     ]
    }
   ],
   "source": [
    "from scipy import stats\n",
    "print(stats.shapiro(data[\"availability_30\"]))\n",
    "print(stats.shapiro(data[\"availability_60\"]))\n",
    "print(stats.shapiro(data[\"availability_90\"]))"
   ]
  },
  {
   "cell_type": "code",
   "execution_count": 189,
   "metadata": {},
   "outputs": [
    {
     "data": {
      "text/plain": [
       "WilcoxonResult(statistic=0.0, pvalue=0.0)"
      ]
     },
     "execution_count": 189,
     "metadata": {},
     "output_type": "execute_result"
    }
   ],
   "source": [
    "stats.wilcoxon(data[\"availability_30\"], data[\"availability_60\"] ,alternative=\"two-sided\")"
   ]
  },
  {
   "cell_type": "code",
   "execution_count": 190,
   "metadata": {},
   "outputs": [
    {
     "name": "stderr",
     "output_type": "stream",
     "text": [
      "/opt/anaconda3/lib/python3.8/site-packages/scipy/stats/morestats.py:2957: UserWarning: Exact p-value calculation does not work if there are ties. Switching to normal approximation.\n",
      "  warnings.warn(\"Exact p-value calculation does not work if there are \"\n",
      "/opt/anaconda3/lib/python3.8/site-packages/scipy/stats/morestats.py:2971: UserWarning: Sample size too small for normal approximation.\n",
      "  warnings.warn(\"Sample size too small for normal approximation.\")\n"
     ]
    },
    {
     "data": {
      "text/plain": [
       "WilcoxonResult(statistic=0.0, pvalue=0.31731050786291415)"
      ]
     },
     "execution_count": 190,
     "metadata": {},
     "output_type": "execute_result"
    }
   ],
   "source": [
    "stats.wilcoxon(stats.shapiro(data[\"availability_60\"]),stats.shapiro(data[\"availability_90\"]) ,alternative=\"two-sided\")"
   ]
  },
  {
   "cell_type": "code",
   "execution_count": 191,
   "metadata": {},
   "outputs": [
    {
     "data": {
      "text/plain": [
       "WilcoxonResult(statistic=0.0, pvalue=0.31731050786291415)"
      ]
     },
     "execution_count": 191,
     "metadata": {},
     "output_type": "execute_result"
    }
   ],
   "source": [
    "stats.wilcoxon(stats.shapiro(data[\"availability_30\"]),stats.shapiro(data[\"availability_90\"]) ,alternative=\"two-sided\")"
   ]
  },
  {
   "cell_type": "code",
   "execution_count": 192,
   "metadata": {},
   "outputs": [],
   "source": [
    "data = data.drop(\"availability_30\", axis = 1)\n",
    "data = data.drop(\"availability_60\", axis = 1)"
   ]
  },
  {
   "cell_type": "code",
   "execution_count": 193,
   "metadata": {},
   "outputs": [
    {
     "name": "stdout",
     "output_type": "stream",
     "text": [
      "ShapiroResult(statistic=0.5592621564865112, pvalue=0.0)\n",
      "ShapiroResult(statistic=0.6059784889221191, pvalue=0.0)\n",
      "ShapiroResult(statistic=0.5014644861221313, pvalue=0.0)\n",
      "ShapiroResult(statistic=0.6049067974090576, pvalue=0.0)\n",
      "ShapiroResult(statistic=0.5925478339195251, pvalue=0.0)\n",
      "ShapiroResult(statistic=0.5925717353820801, pvalue=0.0)\n",
      "ShapiroResult(statistic=0.5925717353820801, pvalue=0.0)\n"
     ]
    }
   ],
   "source": [
    "print(stats.shapiro(data[\"coffe maker\"]))\n",
    "print(stats.shapiro(data[\"refrigerator\"]))\n",
    "print(stats.shapiro(data[\"dishwasher\"]))\n",
    "print(stats.shapiro(data[\"dishes\"]))\n",
    "print(stats.shapiro(data[\"stove\"]))\n",
    "print(stats.shapiro(data[\"cooking\"]))\n",
    "print(stats.shapiro(data[\"basics\"]))"
   ]
  },
  {
   "cell_type": "code",
   "execution_count": 194,
   "metadata": {},
   "outputs": [
    {
     "data": {
      "text/plain": [
       "KruskalResult(statistic=10632.689747324253, pvalue=0.0)"
      ]
     },
     "execution_count": 194,
     "metadata": {},
     "output_type": "execute_result"
    }
   ],
   "source": [
    "stats.kruskal(data[\"coffe maker\"], data[\"refrigerator\"] ,alternative=\"two-sided\")"
   ]
  },
  {
   "cell_type": "code",
   "execution_count": 196,
   "metadata": {},
   "outputs": [
    {
     "data": {
      "text/plain": [
       "KruskalResult(statistic=7262.250013289016, pvalue=0.0)"
      ]
     },
     "execution_count": 196,
     "metadata": {},
     "output_type": "execute_result"
    }
   ],
   "source": [
    "stats.kruskal(data[\"coffe maker\"], data[\"dishwasher\"])"
   ]
  },
  {
   "cell_type": "code",
   "execution_count": 197,
   "metadata": {},
   "outputs": [
    {
     "data": {
      "text/plain": [
       "KruskalResult(statistic=8532.705673631068, pvalue=0.0)"
      ]
     },
     "execution_count": 197,
     "metadata": {},
     "output_type": "execute_result"
    }
   ],
   "source": [
    "stats.kruskal(data[\"coffe maker\"], data[\"dishes\"] ,alternative=\"two-sided\")"
   ]
  },
  {
   "cell_type": "code",
   "execution_count": 198,
   "metadata": {},
   "outputs": [
    {
     "data": {
      "text/plain": [
       "KruskalResult(statistic=4003.3956238580818, pvalue=0.0)"
      ]
     },
     "execution_count": 198,
     "metadata": {},
     "output_type": "execute_result"
    }
   ],
   "source": [
    "stats.kruskal(data[\"coffe maker\"], data[\"stove\"] ,alternative=\"two-sided\")"
   ]
  },
  {
   "cell_type": "code",
   "execution_count": 199,
   "metadata": {},
   "outputs": [
    {
     "data": {
      "text/plain": [
       "KruskalResult(statistic=4038.361196463938, pvalue=0.0)"
      ]
     },
     "execution_count": 199,
     "metadata": {},
     "output_type": "execute_result"
    }
   ],
   "source": [
    "stats.kruskal(data[\"coffe maker\"], data[\"cooking\"] ,alternative=\"two-sided\")"
   ]
  },
  {
   "cell_type": "code",
   "execution_count": 200,
   "metadata": {},
   "outputs": [
    {
     "data": {
      "text/plain": [
       "KruskalResult(statistic=4038.361196463938, pvalue=0.0)"
      ]
     },
     "execution_count": 200,
     "metadata": {},
     "output_type": "execute_result"
    }
   ],
   "source": [
    "stats.kruskal(data[\"coffe maker\"], data[\"basics\"] ,alternative=\"two-sided\")"
   ]
  },
  {
   "cell_type": "code",
   "execution_count": 201,
   "metadata": {},
   "outputs": [
    {
     "data": {
      "text/plain": [
       "KruskalResult(statistic=35075.76651016274, pvalue=0.0)"
      ]
     },
     "execution_count": 201,
     "metadata": {},
     "output_type": "execute_result"
    }
   ],
   "source": [
    "stats.kruskal(data[\"refrigerator\"], data[\"dishwasher\"] ,alternative=\"two-sided\")"
   ]
  },
  {
   "cell_type": "code",
   "execution_count": 202,
   "metadata": {},
   "outputs": [
    {
     "data": {
      "text/plain": [
       "KruskalResult(statistic=116.55726238466576, pvalue=3.588667012108985e-27)"
      ]
     },
     "execution_count": 202,
     "metadata": {},
     "output_type": "execute_result"
    }
   ],
   "source": [
    "stats.kruskal(data[\"refrigerator\"], data[\"dishes\"] ,alternative=\"two-sided\")"
   ]
  },
  {
   "cell_type": "code",
   "execution_count": 203,
   "metadata": {},
   "outputs": [
    {
     "data": {
      "text/plain": [
       "KruskalResult(statistic=1598.6804813290973, pvalue=0.0)"
      ]
     },
     "execution_count": 203,
     "metadata": {},
     "output_type": "execute_result"
    }
   ],
   "source": [
    "stats.kruskal(data[\"refrigerator\"], data[\"stove\"] ,alternative=\"two-sided\")"
   ]
  },
  {
   "cell_type": "code",
   "execution_count": 204,
   "metadata": {},
   "outputs": [
    {
     "data": {
      "text/plain": [
       "KruskalResult(statistic=1576.6767041389196, pvalue=0.0)"
      ]
     },
     "execution_count": 204,
     "metadata": {},
     "output_type": "execute_result"
    }
   ],
   "source": [
    "stats.kruskal(data[\"refrigerator\"], data[\"cooking\"] ,alternative=\"two-sided\")"
   ]
  },
  {
   "cell_type": "code",
   "execution_count": 205,
   "metadata": {},
   "outputs": [
    {
     "data": {
      "text/plain": [
       "KruskalResult(statistic=1576.6767041389196, pvalue=0.0)"
      ]
     },
     "execution_count": 205,
     "metadata": {},
     "output_type": "execute_result"
    }
   ],
   "source": [
    "stats.kruskal(data[\"refrigerator\"], data[\"basics\"] ,alternative=\"two-sided\")"
   ]
  },
  {
   "cell_type": "code",
   "execution_count": 206,
   "metadata": {},
   "outputs": [
    {
     "data": {
      "text/plain": [
       "KruskalResult(statistic=31220.402910462835, pvalue=0.0)"
      ]
     },
     "execution_count": 206,
     "metadata": {},
     "output_type": "execute_result"
    }
   ],
   "source": [
    "stats.kruskal(data[\"dishwasher\"], data[\"dishes\"] ,alternative=\"two-sided\")"
   ]
  },
  {
   "cell_type": "code",
   "execution_count": 207,
   "metadata": {},
   "outputs": [
    {
     "data": {
      "text/plain": [
       "KruskalResult(statistic=21890.96579913962, pvalue=0.0)"
      ]
     },
     "execution_count": 207,
     "metadata": {},
     "output_type": "execute_result"
    }
   ],
   "source": [
    "stats.kruskal(data[\"dishwasher\"], data[\"stove\"] ,alternative=\"two-sided\")"
   ]
  },
  {
   "cell_type": "code",
   "execution_count": 208,
   "metadata": {},
   "outputs": [
    {
     "data": {
      "text/plain": [
       "KruskalResult(statistic=21971.700067929392, pvalue=0.0)"
      ]
     },
     "execution_count": 208,
     "metadata": {},
     "output_type": "execute_result"
    }
   ],
   "source": [
    "stats.kruskal(data[\"dishwasher\"], data[\"cooking\"] ,alternative=\"two-sided\")"
   ]
  },
  {
   "cell_type": "code",
   "execution_count": 209,
   "metadata": {},
   "outputs": [
    {
     "data": {
      "text/plain": [
       "KruskalResult(statistic=21971.700067929392, pvalue=0.0)"
      ]
     },
     "execution_count": 209,
     "metadata": {},
     "output_type": "execute_result"
    }
   ],
   "source": [
    "stats.kruskal(data[\"dishwasher\"], data[\"basics\"] ,alternative=\"two-sided\")"
   ]
  },
  {
   "cell_type": "code",
   "execution_count": 210,
   "metadata": {},
   "outputs": [
    {
     "data": {
      "text/plain": [
       "KruskalResult(statistic=852.263157251574, pvalue=2.341811587336776e-187)"
      ]
     },
     "execution_count": 210,
     "metadata": {},
     "output_type": "execute_result"
    }
   ],
   "source": [
    "stats.kruskal(data[\"dishes\"], data[\"stove\"] ,alternative=\"two-sided\")"
   ]
  },
  {
   "cell_type": "code",
   "execution_count": 211,
   "metadata": {},
   "outputs": [
    {
     "data": {
      "text/plain": [
       "KruskalResult(statistic=836.2119486966074, pvalue=7.230137407557883e-184)"
      ]
     },
     "execution_count": 211,
     "metadata": {},
     "output_type": "execute_result"
    }
   ],
   "source": [
    "stats.kruskal(data[\"dishes\"], data[\"cooking\"] ,alternative=\"two-sided\")"
   ]
  },
  {
   "cell_type": "code",
   "execution_count": 212,
   "metadata": {},
   "outputs": [
    {
     "data": {
      "text/plain": [
       "KruskalResult(statistic=836.2119486966074, pvalue=7.230137407557883e-184)"
      ]
     },
     "execution_count": 212,
     "metadata": {},
     "output_type": "execute_result"
    }
   ],
   "source": [
    "stats.kruskal(data[\"dishes\"], data[\"basics\"] ,alternative=\"two-sided\")"
   ]
  },
  {
   "cell_type": "code",
   "execution_count": 213,
   "metadata": {},
   "outputs": [
    {
     "data": {
      "text/plain": [
       "KruskalResult(statistic=0.07636186212888973, pvalue=0.7822896227174748)"
      ]
     },
     "execution_count": 213,
     "metadata": {},
     "output_type": "execute_result"
    }
   ],
   "source": [
    "stats.kruskal(data[\"stove\"], data[\"cooking\"] ,alternative=\"two-sided\")"
   ]
  },
  {
   "cell_type": "code",
   "execution_count": 214,
   "metadata": {},
   "outputs": [
    {
     "data": {
      "text/plain": [
       "KruskalResult(statistic=0.07636186212888973, pvalue=0.7822896227174748)"
      ]
     },
     "execution_count": 214,
     "metadata": {},
     "output_type": "execute_result"
    }
   ],
   "source": [
    "stats.kruskal(data[\"stove\"], data[\"basics\"] ,alternative=\"two-sided\")"
   ]
  },
  {
   "cell_type": "code",
   "execution_count": 216,
   "metadata": {},
   "outputs": [
    {
     "data": {
      "text/plain": [
       "KruskalResult(statistic=0.0, pvalue=1.0)"
      ]
     },
     "execution_count": 216,
     "metadata": {},
     "output_type": "execute_result"
    }
   ],
   "source": [
    "stats.kruskal(data[\"cooking\"], data[\"basics\"] ,alternative=\"two-sided\")"
   ]
  },
  {
   "cell_type": "code",
   "execution_count": 217,
   "metadata": {},
   "outputs": [],
   "source": [
    "data = data.drop(\"refrigerator\", axis = 1)\n",
    "data = data.drop(\"dishwasher\", axis = 1)\n",
    "data = data.drop(\"cooking\", axis = 1)\n",
    "data = data.drop(\"basics\", axis = 1)"
   ]
  },
  {
   "cell_type": "code",
   "execution_count": 218,
   "metadata": {},
   "outputs": [
    {
     "name": "stdout",
     "output_type": "stream",
     "text": [
      "ShapiroResult(statistic=0.6024149656295776, pvalue=0.0)\n",
      "ShapiroResult(statistic=0.5954239964485168, pvalue=0.0)\n"
     ]
    }
   ],
   "source": [
    "print(stats.shapiro(data[\"jumio\"]))\n",
    "print(stats.shapiro(data[\"governmentid\"]))"
   ]
  },
  {
   "cell_type": "code",
   "execution_count": 219,
   "metadata": {},
   "outputs": [
    {
     "data": {
      "text/plain": [
       "KruskalResult(statistic=132.03058295784766, pvalue=1.4733187215244834e-30)"
      ]
     },
     "execution_count": 219,
     "metadata": {},
     "output_type": "execute_result"
    }
   ],
   "source": [
    "stats.kruskal(data[\"jumio\"], data[\"governmentid\"] ,alternative=\"two-sided\")"
   ]
  },
  {
   "cell_type": "code",
   "execution_count": 131,
   "metadata": {},
   "outputs": [],
   "source": [
    "data = data.drop(\"governmentid\", axis = 1)"
   ]
  },
  {
   "cell_type": "code",
   "execution_count": 220,
   "metadata": {},
   "outputs": [
    {
     "name": "stdout",
     "output_type": "stream",
     "text": [
      "ShapiroResult(statistic=0.5166811943054199, pvalue=0.0)\n",
      "ShapiroResult(statistic=0.5108246803283691, pvalue=0.0)\n"
     ]
    }
   ],
   "source": [
    "print(stats.shapiro(data[\"selfie\"]))\n",
    "print(stats.shapiro(data[\"identitymanual\"]))"
   ]
  },
  {
   "cell_type": "code",
   "execution_count": 221,
   "metadata": {},
   "outputs": [
    {
     "data": {
      "text/plain": [
       "KruskalResult(statistic=117.02658337959328, pvalue=2.8324558570165848e-27)"
      ]
     },
     "execution_count": 221,
     "metadata": {},
     "output_type": "execute_result"
    }
   ],
   "source": [
    "stats.kruskal(data[\"selfie\"], data[\"identitymanual\"] ,alternative=\"two-sided\")"
   ]
  },
  {
   "cell_type": "code",
   "execution_count": 134,
   "metadata": {},
   "outputs": [],
   "source": [
    "data = data.drop(\"identitymanual\", axis = 1)"
   ]
  },
  {
   "cell_type": "code",
   "execution_count": 222,
   "metadata": {},
   "outputs": [
    {
     "name": "stdout",
     "output_type": "stream",
     "text": [
      "ShapiroResult(statistic=0.004055917263031006, pvalue=0.0)\n",
      "ShapiroResult(statistic=0.004055917263031006, pvalue=0.0)\n"
     ]
    }
   ],
   "source": [
    "print(stats.shapiro(data[\"sesame\"]))\n",
    "print(stats.shapiro(data[\"sesameoffline\"]))"
   ]
  },
  {
   "cell_type": "code",
   "execution_count": 223,
   "metadata": {},
   "outputs": [
    {
     "data": {
      "text/plain": [
       "KruskalResult(statistic=0.0, pvalue=1.0)"
      ]
     },
     "execution_count": 223,
     "metadata": {},
     "output_type": "execute_result"
    }
   ],
   "source": [
    "stats.kruskal(data[\"sesame\"], data[\"sesameoffline\"] ,alternative=\"two-sided\")"
   ]
  },
  {
   "cell_type": "code",
   "execution_count": 224,
   "metadata": {},
   "outputs": [],
   "source": [
    "data = data.drop(\"sesame\", axis = 1)\n",
    "data = data.drop(\"sesameoffline\", axis = 1)"
   ]
  },
  {
   "cell_type": "code",
   "execution_count": 225,
   "metadata": {},
   "outputs": [
    {
     "name": "stdout",
     "output_type": "stream",
     "text": [
      "ShapiroResult(statistic=0.6394679546356201, pvalue=0.0)\n",
      "ShapiroResult(statistic=0.6394679546356201, pvalue=0.0)\n",
      "ShapiroResult(statistic=0.6348727345466614, pvalue=0.0)\n",
      "ShapiroResult(statistic=0.6347346305847168, pvalue=0.0)\n"
     ]
    }
   ],
   "source": [
    "print(stats.shapiro(data[\"entire\"]))\n",
    "print(stats.shapiro(data[\"homeapt\"]))\n",
    "print(stats.shapiro(data[\"private\"]))\n",
    "print(stats.shapiro(data[\"room\"]))"
   ]
  },
  {
   "cell_type": "code",
   "execution_count": 226,
   "metadata": {},
   "outputs": [
    {
     "name": "stdout",
     "output_type": "stream",
     "text": [
      "KruskalResult(statistic=15365.664848852774, pvalue=0.0)\n",
      "KruskalResult(statistic=10954.17457015205, pvalue=0.0)\n",
      "KruskalResult(statistic=15365.664848852774, pvalue=0.0)\n",
      "KruskalResult(statistic=10954.17457015205, pvalue=0.0)\n",
      "KruskalResult(statistic=375.9799332186818, pvalue=9.336950538784387e-84)\n"
     ]
    }
   ],
   "source": [
    "# print(stats.wilcoxon(data[\"entire\"], data[\"homeapt\"] ,alternative=\"two-sided\"))\n",
    "print(stats.kruskal(data[\"entire\"], data[\"private\"] ,alternative=\"two-sided\"))\n",
    "print(stats.kruskal(data[\"entire\"], data[\"room\"] ,alternative=\"two-sided\"))\n",
    "print(stats.kruskal(data[\"homeapt\"], data[\"private\"] ,alternative=\"two-sided\"))\n",
    "print(stats.kruskal(data[\"homeapt\"], data[\"room\"] ,alternative=\"two-sided\"))\n",
    "print(stats.kruskal(data[\"private\"], data[\"room\"] ,alternative=\"two-sided\"))"
   ]
  },
  {
   "cell_type": "code",
   "execution_count": 227,
   "metadata": {},
   "outputs": [],
   "source": [
    "data = data.drop(\"entire\", axis = 1)\n",
    "data = data.drop(\"homeapt\", axis = 1)"
   ]
  },
  {
   "cell_type": "code",
   "execution_count": 228,
   "metadata": {},
   "outputs": [
    {
     "data": {
      "text/plain": [
       "(671380, 215)"
      ]
     },
     "execution_count": 228,
     "metadata": {},
     "output_type": "execute_result"
    }
   ],
   "source": [
    "data.shape"
   ]
  },
  {
   "cell_type": "code",
   "execution_count": 229,
   "metadata": {},
   "outputs": [],
   "source": [
    "data.to_csv(\"data_after_correlation.csv\", encoding='utf-8', index=False)"
   ]
  },
  {
   "cell_type": "code",
   "execution_count": null,
   "metadata": {},
   "outputs": [],
   "source": []
  }
 ],
 "metadata": {
  "kernelspec": {
   "display_name": "Python 3",
   "language": "python",
   "name": "python3"
  },
  "language_info": {
   "codemirror_mode": {
    "name": "ipython",
    "version": 3
   },
   "file_extension": ".py",
   "mimetype": "text/x-python",
   "name": "python",
   "nbconvert_exporter": "python",
   "pygments_lexer": "ipython3",
   "version": "3.8.5"
  }
 },
 "nbformat": 4,
 "nbformat_minor": 4
}
